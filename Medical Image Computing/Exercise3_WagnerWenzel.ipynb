{
 "cells": [
  {
   "cell_type": "code",
   "execution_count": 5,
   "metadata": {},
   "outputs": [],
   "source": [
    "import cv2 as cv\n",
    "import numpy as np\n",
    "from skimage.feature import graycomatrix, graycoprops\n",
    "import matplotlib.pyplot as plt"
   ]
  },
  {
   "cell_type": "markdown",
   "metadata": {},
   "source": [
    "1. Problem Description:\n",
    "\n",
    "The goal of this exercise is to train and evaluate two classifiers. The task for the classifiers is to distinguish\n",
    "between different regions (classes) in the images you already know from Exercise 1 and 2.\n",
    "Patches (20 x 20 pixels) of the OCT fore- and background as well as the X- Ray fore- and background were\n",
    "extracted, see Figure above. The textural features you know from Exercise 2 were extracted for each\n",
    "patch and are stored in the attached csv file.\n",
    "Two files are attached to the exercise:\n",
    "\n",
    "● “XL.csv”: The design matrix was constructed based on the textural features of Exercise 2 and can\n",
    "be found in this file. In addition, the last column of this data contains the class labels (1 = OCT\n",
    "foreground, 2 = OCT background, 3 = X-Ray background, 4 = X-Ray foreground)\n",
    "● “patches.tif”: The image containing all patches.\n",
    "\n"
   ]
  },
  {
   "cell_type": "markdown",
   "metadata": {},
   "source": [
    "2. Feature Selection"
   ]
  },
  {
   "cell_type": "code",
   "execution_count": 6,
   "metadata": {},
   "outputs": [
    {
     "name": "stdout",
     "output_type": "stream",
     "text": [
      "Requirement already satisfied: pandas in c:\\users\\wagne\\anaconda3\\envs\\mic_ws2023_v2\\lib\\site-packages (2.1.4)\n",
      "Requirement already satisfied: numpy<2,>=1.22.4 in c:\\users\\wagne\\anaconda3\\envs\\mic_ws2023_v2\\lib\\site-packages (from pandas) (1.26.0)\n",
      "Requirement already satisfied: python-dateutil>=2.8.2 in c:\\users\\wagne\\anaconda3\\envs\\mic_ws2023_v2\\lib\\site-packages (from pandas) (2.8.2)\n",
      "Requirement already satisfied: pytz>=2020.1 in c:\\users\\wagne\\anaconda3\\envs\\mic_ws2023_v2\\lib\\site-packages (from pandas) (2023.3.post1)\n",
      "Requirement already satisfied: tzdata>=2022.1 in c:\\users\\wagne\\anaconda3\\envs\\mic_ws2023_v2\\lib\\site-packages (from pandas) (2023.3)\n",
      "Requirement already satisfied: six>=1.5 in c:\\users\\wagne\\anaconda3\\envs\\mic_ws2023_v2\\lib\\site-packages (from python-dateutil>=2.8.2->pandas) (1.16.0)\n",
      "Note: you may need to restart the kernel to use updated packages.\n",
      "     Contrast_0  Contrast_45  Contrast_90  Contrast_135  Correlation_0  \\\n",
      "0      0.665789     1.036011     0.489474      0.858726       0.881278   \n",
      "1      0.344737     0.590028     0.471053      0.659280       0.906595   \n",
      "2      0.626316     1.138504     0.557895      0.789474       0.871879   \n",
      "3      0.421053     0.836565     0.610526      0.778393       0.915127   \n",
      "4      0.263158     0.612188     0.555263      0.695291       0.919149   \n",
      "..          ...          ...          ...           ...            ...   \n",
      "671    0.313158     0.468144     0.497368      0.681440       0.777813   \n",
      "672    0.260526     0.301939     0.305263      0.434903       0.734972   \n",
      "673    0.165789     0.277008     0.263158      0.307479       0.653294   \n",
      "674    0.223684     0.423823     0.386842      0.451524       0.756235   \n",
      "675    0.128947     0.185596     0.102632      0.135734       0.514378   \n",
      "\n",
      "     Correlation_45  Correlation_90  Correlation_135  Energy_0  Energy_45  \\\n",
      "0          0.820190        0.913593         0.852114  0.104377   0.085243   \n",
      "1          0.834663        0.869325         0.815960  0.109280   0.088482   \n",
      "2          0.770298        0.883952         0.839285  0.067396   0.052739   \n",
      "3          0.830423        0.879762         0.846388  0.083047   0.063236   \n",
      "4          0.802207        0.822758         0.778257  0.171801   0.121692   \n",
      "..              ...             ...              ...       ...        ...   \n",
      "671        0.671033        0.653007         0.522468  0.195803   0.155716   \n",
      "672        0.691497        0.701408         0.553764  0.250831   0.240199   \n",
      "673        0.409160        0.447428         0.340659  0.394529   0.342654   \n",
      "674        0.543417        0.584562         0.512533  0.315263   0.243499   \n",
      "675        0.288917        0.611462         0.480072  0.623837   0.588953   \n",
      "\n",
      "     ...  Energy_135  Homogeneity_0  Homogeneity_45  Homogeneity_90  \\\n",
      "0    ...    0.089095       0.781579        0.715836        0.793860   \n",
      "1    ...    0.074777       0.841667        0.784857        0.788377   \n",
      "2    ...    0.061134       0.748684        0.668144        0.786404   \n",
      "3    ...    0.067717       0.817544        0.735457        0.784649   \n",
      "4    ...    0.119252       0.878947        0.767775        0.775000   \n",
      "..   ...         ...            ...             ...             ...   \n",
      "671  ...    0.135811       0.846930        0.784395        0.782895   \n",
      "672  ...    0.205623       0.869737        0.849030        0.847368   \n",
      "673  ...    0.327967       0.917105        0.861496        0.868421   \n",
      "674  ...    0.244220       0.895175        0.813943        0.820614   \n",
      "675  ...    0.622670       0.935526        0.907202        0.948684   \n",
      "\n",
      "     Homogeneity_135  Entropy_0  Entropy_45  Entropy_90  Entropy_135  Label  \n",
      "0           0.728070   0.643940    0.696212    0.575581     0.661976      1  \n",
      "1           0.736842   0.395538    0.486095    0.435948     0.448864      1  \n",
      "2           0.720683   0.486095    0.575581    0.486095     0.521222      1  \n",
      "3           0.755078   0.473929    0.565101    0.532497     0.532497      1  \n",
      "4           0.767082   0.486095    0.486095    0.461522     0.532497      1  \n",
      "..               ...        ...         ...         ...          ...    ...  \n",
      "671         0.739151   0.337290    0.337290    0.367089     0.395538      4  \n",
      "672         0.793629   0.237977    0.237977    0.237977     0.237977      4  \n",
      "673         0.846260   0.138800    0.138800    0.160329     0.138800      4  \n",
      "674         0.811173   0.289706    0.321837    0.305985     0.321837      4  \n",
      "675         0.932133   0.116115    0.116115    0.116115     0.116115      4  \n",
      "\n",
      "[676 rows x 21 columns]\n"
     ]
    }
   ],
   "source": [
    "# load the csv file\n",
    "%pip install pandas\n",
    "\n",
    "import pandas as pd\n",
    "\n",
    "# Read CSV file\n",
    "df = pd.read_csv('XL.csv')\n",
    "\n",
    "# Display the DataFrame\n",
    "print(df)\n"
   ]
  },
  {
   "cell_type": "markdown",
   "metadata": {},
   "source": [
    "Data includes 676 examples labeled in 4 groups with 20 features (Contrast, Correlation, Energy, Homogeneitiy and Entropy for 4 different angles: 0°,45°,90°,135°). One column is a labeling column, so not really an own feature."
   ]
  },
  {
   "cell_type": "code",
   "execution_count": 7,
   "metadata": {},
   "outputs": [
    {
     "name": "stdout",
     "output_type": "stream",
     "text": [
      "Training set shape: (572, 20)\n",
      "Test set shape: (104, 20)\n",
      "     Contrast_0  Contrast_45  Contrast_90  Contrast_135  Correlation_0  \\\n",
      "0      0.665789     1.036011     0.489474      0.858726       0.881278   \n",
      "1      0.344737     0.590028     0.471053      0.659280       0.906595   \n",
      "2      0.626316     1.138504     0.557895      0.789474       0.871879   \n",
      "3      0.421053     0.836565     0.610526      0.778393       0.915127   \n",
      "4      0.263158     0.612188     0.555263      0.695291       0.919149   \n",
      "..          ...          ...          ...           ...            ...   \n",
      "671    0.313158     0.468144     0.497368      0.681440       0.777813   \n",
      "672    0.260526     0.301939     0.305263      0.434903       0.734972   \n",
      "673    0.165789     0.277008     0.263158      0.307479       0.653294   \n",
      "674    0.223684     0.423823     0.386842      0.451524       0.756235   \n",
      "675    0.128947     0.185596     0.102632      0.135734       0.514378   \n",
      "\n",
      "     Correlation_45  Correlation_90  Correlation_135  Energy_0  Energy_45  \\\n",
      "0          0.820190        0.913593         0.852114  0.104377   0.085243   \n",
      "1          0.834663        0.869325         0.815960  0.109280   0.088482   \n",
      "2          0.770298        0.883952         0.839285  0.067396   0.052739   \n",
      "3          0.830423        0.879762         0.846388  0.083047   0.063236   \n",
      "4          0.802207        0.822758         0.778257  0.171801   0.121692   \n",
      "..              ...             ...              ...       ...        ...   \n",
      "671        0.671033        0.653007         0.522468  0.195803   0.155716   \n",
      "672        0.691497        0.701408         0.553764  0.250831   0.240199   \n",
      "673        0.409160        0.447428         0.340659  0.394529   0.342654   \n",
      "674        0.543417        0.584562         0.512533  0.315263   0.243499   \n",
      "675        0.288917        0.611462         0.480072  0.623837   0.588953   \n",
      "\n",
      "     Energy_90  Energy_135  Homogeneity_0  Homogeneity_45  Homogeneity_90  \\\n",
      "0     0.104584    0.089095       0.781579        0.715836        0.793860   \n",
      "1     0.088158    0.074777       0.841667        0.784857        0.788377   \n",
      "2     0.078684    0.061134       0.748684        0.668144        0.786404   \n",
      "3     0.073781    0.067717       0.817544        0.735457        0.784649   \n",
      "4     0.125429    0.119252       0.878947        0.767775        0.775000   \n",
      "..         ...         ...            ...             ...             ...   \n",
      "671   0.151842    0.135811       0.846930        0.784395        0.782895   \n",
      "672   0.234266    0.205623       0.869737        0.849030        0.847368   \n",
      "673   0.342313    0.327967       0.917105        0.861496        0.868421   \n",
      "674   0.248338    0.244220       0.895175        0.813943        0.820614   \n",
      "675   0.643781    0.622670       0.935526        0.907202        0.948684   \n",
      "\n",
      "     Homogeneity_135  Entropy_0  Entropy_45  Entropy_90  Entropy_135  \n",
      "0           0.728070   0.643940    0.696212    0.575581     0.661976  \n",
      "1           0.736842   0.395538    0.486095    0.435948     0.448864  \n",
      "2           0.720683   0.486095    0.575581    0.486095     0.521222  \n",
      "3           0.755078   0.473929    0.565101    0.532497     0.532497  \n",
      "4           0.767082   0.486095    0.486095    0.461522     0.532497  \n",
      "..               ...        ...         ...         ...          ...  \n",
      "671         0.739151   0.337290    0.337290    0.367089     0.395538  \n",
      "672         0.793629   0.237977    0.237977    0.237977     0.237977  \n",
      "673         0.846260   0.138800    0.138800    0.160329     0.138800  \n",
      "674         0.811173   0.289706    0.321837    0.305985     0.321837  \n",
      "675         0.932133   0.116115    0.116115    0.116115     0.116115  \n",
      "\n",
      "[676 rows x 20 columns]\n"
     ]
    }
   ],
   "source": [
    "# adjust dataset\n",
    "\n",
    "df = df.drop(columns=['Label'])\n",
    "# Assuming df is your DataFrame\n",
    "\n",
    "# Select the first and last 52 examples for the test set\n",
    "test_set = pd.concat([df.head(52), df.tail(52)])\n",
    "\n",
    "# Select the remaining examples for the training set\n",
    "train_set = df.iloc[52:-52]\n",
    "\n",
    "# Display the shapes of the resulting sets\n",
    "print(\"Training set shape:\", train_set.shape)\n",
    "print(\"Test set shape:\", test_set.shape)\n",
    "\n",
    "print(df)"
   ]
  }
 ],
 "metadata": {
  "kernelspec": {
   "display_name": "MIC_WS2023_v2",
   "language": "python",
   "name": "python3"
  },
  "language_info": {
   "codemirror_mode": {
    "name": "ipython",
    "version": 3
   },
   "file_extension": ".py",
   "mimetype": "text/x-python",
   "name": "python",
   "nbconvert_exporter": "python",
   "pygments_lexer": "ipython3",
   "version": "3.9.18"
  }
 },
 "nbformat": 4,
 "nbformat_minor": 2
}
